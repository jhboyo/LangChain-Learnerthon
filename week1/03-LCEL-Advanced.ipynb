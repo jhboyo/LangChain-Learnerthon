{
 "cells": [
  {
   "cell_type": "code",
   "execution_count": 5,
   "metadata": {},
   "outputs": [
    {
     "data": {
      "text/plain": [
       "True"
      ]
     },
     "execution_count": 5,
     "metadata": {},
     "output_type": "execute_result"
    }
   ],
   "source": [
    "# API KEY를 환경변수로 관리하기 위한 설정 파일\n",
    "from dotenv import load_dotenv\n",
    "\n",
    "# API KEY 정보로드\n",
    "load_dotenv()"
   ]
  },
  {
   "cell_type": "code",
   "execution_count": 6,
   "metadata": {},
   "outputs": [],
   "source": [
    "from langchain_openai import ChatOpenAI\n",
    "from langchain_core.prompts import PromptTemplate\n",
    "from langchain_core.output_parsers import StrOutputParser"
   ]
  },
  {
   "cell_type": "code",
   "execution_count": 7,
   "metadata": {},
   "outputs": [],
   "source": [
    "model = ChatOpenAI()\n",
    "prompt = PromptTemplate.from_template(\"{topic}에 대해 3문장으로 설명해 주세요.\")\n",
    "chain = prompt | model | StrOutputParser()"
   ]
  },
  {
   "cell_type": "code",
   "execution_count": 8,
   "metadata": {},
   "outputs": [
    {
     "name": "stdout",
     "output_type": "stream",
     "text": [
      "인플레이션은 물가가 상승하여 화폐의 구매력이 감소하는 경제 현상을 말합니다. 이로 인해 소비자들은 물가 상승으로 물건을 더 비싸게 사야 하게 되며, 저축가치가 하락하여 소비를 촉진시키기도 합니다. 중앙은행은 이를 통제하기 위해 통화량 조절 등 다양한 정책을 시행합니다."
     ]
    }
   ],
   "source": [
    "for token in chain.stream({\"topic\": \"인플레이션\"}):\n",
    "    print(token, end=\"\", flush=True)"
   ]
  },
  {
   "cell_type": "code",
   "execution_count": 9,
   "metadata": {},
   "outputs": [
    {
     "data": {
      "text/plain": [
       "'ChatGPT는 인공지능 챗봇으로, 자연어 처리 기술을 이용해 대화를 주도하고 상호 작용할 수 있습니다. 사용자의 질문에 대답하거나 일상적인 대화를 나누며 필요한 정보를 제공합니다. 머신 러닝 알고리즘을 기반으로 하여 사용자와의 상호작용을 향상시키고 학습합니다.'"
      ]
     },
     "execution_count": 9,
     "metadata": {},
     "output_type": "execute_result"
    }
   ],
   "source": [
    "# chain 객체의 invoke 메서드를 호출하고, 'ChatGPT'라는 주제로 딕셔너리를 전달합니다.\n",
    "chain.invoke({\"topic\": \"ChatGPT\"})"
   ]
  },
  {
   "cell_type": "code",
   "execution_count": 10,
   "metadata": {},
   "outputs": [
    {
     "data": {
      "text/plain": [
       "['ChatGPT는 OpenAI가 개발한 대화형 인공지능 모델로, 사용자와 자연스럽고 유창한 대화를 수행합니다. 이 모델은 다양한 주제에 대해 대화하거나 질문에 답변하며, 인터랙티브한 상황에서 유용하게 활용될 수 있습니다. ChatGPT는 인간과의 상호작용을 향상시키고, 정보나 서비스 제공에 도움을 줄 수 있는 신속하고 정확한 답변을 제공합니다.',\n",
       " '인스타그램은 사진과 동영상을 공유하며 다른 사람들과 소통할 수 있는 SNS 플랫폼입니다. 해시태그를 통해 관심사나 주제별로 게시물을 탐색하고 팔로우할 수 있어 새로운 콘텐츠를 발견할 수 있습니다. 또한 인기 있는 해시태그나 필터를 활용하여 자신의 게시물을 더욱 돋보이게 만들 수 있습니다.']"
      ]
     },
     "execution_count": 10,
     "metadata": {},
     "output_type": "execute_result"
    }
   ],
   "source": [
    "chain.batch([{\"topic\": \"ChatGPT\"}, {\"topic\": \"Instagram\"}])"
   ]
  },
  {
   "cell_type": "code",
   "execution_count": 11,
   "metadata": {},
   "outputs": [
    {
     "data": {
      "text/plain": [
       "['ChatGPT는 사용자와 대화를 나누며 자연어 처리 기술을 활용하여 다양한 주제에 대해 대화할 수 있는 인공지능 챗봇입니다. 문장의 의도를 이해하고 적절한 답변을 생성하여 대화의 흐름을 유지하며 사용자에게 도움이 되는 정보를 제공합니다. ChatGPT는 학습 데이터를 기반으로 지속적으로 발전하며 보다 자연스러운 대화를 위해 노력하고 있습니다.',\n",
       " 'Instagram은 사진과 영상을 공유하고 소셜 네트워크를 형성할 수 있는 애플리케이션입니다. 사용자들은 팔로워들과 소통하며 일상 속 모멘트들을 공유할 수 있습니다. 다양한 필터와 편집 기능을 제공하여 보다 멋진 사진을 만들어 게시할 수 있습니다.',\n",
       " '멀티모달은 여러 가지 다양한 수단이나 매체를 통해 정보를 전달하고 상호작용하는 방식을 의미합니다. 이는 텍스트, 음성, 영상 등 다양한 형식을 통해 사용자에게 효율적으로 정보를 전달하는 것을 목표로 하며, 사용자 경험의 품질을 향상시키는 중요한 요소로 간주됩니다. 즉, 멀티모달은 다양한 감각을 활용해 사용자가 정보를 효과적으로 인식하고 이해할 수 있도록 하는 디자인 접근 방식입니다.',\n",
       " '프로그래밍은 컴퓨터에게 작업을 수행하도록 지시하는 일련의 명령어를 작성하는 과정입니다. 이러한 명령어는 프로그래밍 언어로 작성되며, 이를 통해 소프트웨어 및 애플리케이션을 개발할 수 있습니다. 프로그래밍을 통해 복잡한 문제를 해결하고 창의적인 솔루션을 구현할 수 있습니다.',\n",
       " '머신러닝은 인공지능의 한 분야로, 컴퓨터가 데이터를 분석하고 학습하여 패턴과 특징을 학습하는 기술입니다. 이를 통해 컴퓨터는 새로운 데이터에 대한 예측을 할 수 있거나 의사 결정을 내릴 수 있습니다. 머신러닝은 다양한 분야에서 활용되며, 우리 일상생활 속에서도 많은 영향을 끼치고 있습니다.']"
      ]
     },
     "execution_count": 11,
     "metadata": {},
     "output_type": "execute_result"
    }
   ],
   "source": [
    "chain.batch(\n",
    "    [\n",
    "        {\"topic\": \"ChatGPT\"},\n",
    "        {\"topic\": \"Instagram\"},\n",
    "        {\"topic\": \"멀티모달\"},\n",
    "        {\"topic\": \"프로그래밍\"},\n",
    "        {\"topic\": \"머신러닝\"},\n",
    "    ],\n",
    "    config={\"max_concurrency\": 3},\n",
    ")"
   ]
  },
  {
   "cell_type": "code",
   "execution_count": 12,
   "metadata": {},
   "outputs": [
    {
     "name": "stdout",
     "output_type": "stream",
     "text": [
      "인플레이션이란 일반적으로 물가 상승을 의미하며, 소비자에게 물가가 상승하는 것으로 물품이나 서비스를 더 많은 돈을 지불해야 하는 상황을 초래합니다. 인플레이션은 통화 가치의 하락을 야기하여 소비력을 저하시키고, 경제 전반에 부정적인 영향을 끼칠 수 있습니다. 정부는 인플레이션을 관리하기 위해 통화정책을 조정하고 통제하는 역할을 합니다."
     ]
    }
   ],
   "source": [
    "async for token in chain.astream({\"topic\": \"인플레이션\"}):\n",
    "    print(token, end=\"\", flush=True)\n"
   ]
  },
  {
   "cell_type": "code",
   "execution_count": 13,
   "metadata": {},
   "outputs": [],
   "source": [
    "my_process = chain.ainvoke({\"topic\": \"ChatGPT\"})"
   ]
  },
  {
   "cell_type": "code",
   "execution_count": 14,
   "metadata": {},
   "outputs": [
    {
     "data": {
      "text/plain": [
       "'ChatGPT는 고급 자연어 처리 기술을 사용하여 사용자와 대화하는 대화형 AI 챗봇입니다. ChatGPT는 사용자의 질문에 대답하고 의견을 나누며, 다양한 주제에 대해 대화할 수 있습니다. 텍스트 기반으로 대화하는 ChatGPT는 정보 제공, 엔터테인먼트, 도움 및 소셜 상호 작용에 활용될 수 있습니다.'"
      ]
     },
     "execution_count": 14,
     "metadata": {},
     "output_type": "execute_result"
    }
   ],
   "source": [
    "await my_process"
   ]
  },
  {
   "cell_type": "code",
   "execution_count": 18,
   "metadata": {},
   "outputs": [],
   "source": [
    "from langchain_core.runnables import RunnableParallel"
   ]
  },
  {
   "cell_type": "code",
   "execution_count": 30,
   "metadata": {},
   "outputs": [],
   "source": [
    "chain1 = (\n",
    "    PromptTemplate.from_template(\"{country}의 수도는 무엇인가요?\")\n",
    "    | model\n",
    "    | StrOutputParser()\n",
    ")\n",
    "chain2 = (\n",
    "    PromptTemplate.from_template(\"{country}의 면적은 얼마야?\")\n",
    "    | model\n",
    "    | StrOutputParser()\n",
    ")\n",
    "combined = RunnableParallel(capital=chain1, area=chain2)\n",
    "\n"
   ]
  },
  {
   "cell_type": "code",
   "execution_count": 27,
   "metadata": {},
   "outputs": [
    {
     "data": {
      "text/plain": [
       "'대한민국의 수도는 서울입니다.'"
      ]
     },
     "execution_count": 27,
     "metadata": {},
     "output_type": "execute_result"
    }
   ],
   "source": [
    "chain1.invoke({\"country\": \"한국\"})"
   ]
  },
  {
   "cell_type": "code",
   "execution_count": 28,
   "metadata": {},
   "outputs": [
    {
     "data": {
      "text/plain": [
       "'미국의 면적은 대략 9,834,000 제곱 킬로미터입니다.'"
      ]
     },
     "execution_count": 28,
     "metadata": {},
     "output_type": "execute_result"
    }
   ],
   "source": [
    "# chain2 를 실행합니다.\n",
    "chain2.invoke({\"country\": \"미국\"})"
   ]
  },
  {
   "cell_type": "code",
   "execution_count": 31,
   "metadata": {},
   "outputs": [
    {
     "data": {
      "text/plain": [
       "{'capital': '대한민국의 수도는 서울입니다.', 'area': '한국의 총 면적은 약 100,363 제곱킬로미터이다.'}"
      ]
     },
     "execution_count": 31,
     "metadata": {},
     "output_type": "execute_result"
    }
   ],
   "source": [
    "combined.invoke({\"country\": \"한국\"})"
   ]
  },
  {
   "cell_type": "code",
   "execution_count": 33,
   "metadata": {},
   "outputs": [],
   "source": [
    "## 배치에서 병렬처리"
   ]
  },
  {
   "cell_type": "code",
   "execution_count": 34,
   "metadata": {},
   "outputs": [
    {
     "data": {
      "text/plain": [
       "[{'capital': '대한민국의 수도는 서울입니다.', 'area': '한국의 총 면적은 약 100,363km²입니다.'},\n",
       " {'capital': '미국의 수도는 워싱턴 D.C.입니다.', 'area': '미국의 면적은 약 9,826만 제곱 킬로미터입니다.'}]"
      ]
     },
     "execution_count": 34,
     "metadata": {},
     "output_type": "execute_result"
    }
   ],
   "source": [
    "chain1.batch([{\"country\": \"한국\"}, {\"country\": \"미국\"}])\n",
    "chain2.batch([{\"country\": \"한국\"}, {\"country\": \"미국\"}])\n",
    "combined.batch([{\"country\": \"한국\"}, {\"country\": \"미국\"}])\n",
    "\n",
    "\n",
    "\n"
   ]
  }
 ],
 "metadata": {
  "kernelspec": {
   "display_name": "Python 3",
   "language": "python",
   "name": "python3"
  },
  "language_info": {
   "codemirror_mode": {
    "name": "ipython",
    "version": 3
   },
   "file_extension": ".py",
   "mimetype": "text/x-python",
   "name": "python",
   "nbconvert_exporter": "python",
   "pygments_lexer": "ipython3",
   "version": "3.11.10"
  }
 },
 "nbformat": 4,
 "nbformat_minor": 2
}
