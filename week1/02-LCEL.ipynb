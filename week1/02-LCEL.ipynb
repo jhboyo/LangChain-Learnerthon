{
 "cells": [
  {
   "cell_type": "code",
   "execution_count": 9,
   "metadata": {},
   "outputs": [
    {
     "data": {
      "text/plain": [
       "True"
      ]
     },
     "execution_count": 9,
     "metadata": {},
     "output_type": "execute_result"
    }
   ],
   "source": [
    "# API KEY를 환경변수로 관리하기 위한 설정 파일\n",
    "from dotenv import load_dotenv\n",
    "\n",
    "# API KEY 정보로드\n",
    "load_dotenv()"
   ]
  },
  {
   "cell_type": "code",
   "execution_count": 16,
   "metadata": {},
   "outputs": [],
   "source": [
    "from langchain_teddynote.messages import stream_response  # 스트리밍 출력\n",
    "from langchain_core.prompts import PromptTemplate"
   ]
  },
  {
   "cell_type": "code",
   "execution_count": 11,
   "metadata": {},
   "outputs": [
    {
     "data": {
      "text/plain": [
       "PromptTemplate(input_variables=['country'], input_types={}, partial_variables={}, template='{country}의 수도는 무엇인가요?')"
      ]
     },
     "execution_count": 11,
     "metadata": {},
     "output_type": "execute_result"
    }
   ],
   "source": [
    "template = \"{country}의 수도는 무엇인가요?\"\n",
    "\n",
    "prompt_template = PromptTemplate.from_template(template)\n",
    "\n",
    "prompt_template"
   ]
  },
  {
   "cell_type": "code",
   "execution_count": 12,
   "metadata": {},
   "outputs": [
    {
     "data": {
      "text/plain": [
       "'한국의 수도는 무엇인가요?'"
      ]
     },
     "execution_count": 12,
     "metadata": {},
     "output_type": "execute_result"
    }
   ],
   "source": [
    "# 프롬프트 생서\n",
    "prompt = prompt_template.format(country=\"한국\")\n",
    "\n",
    "prompt"
   ]
  },
  {
   "cell_type": "code",
   "execution_count": 13,
   "metadata": {},
   "outputs": [],
   "source": [
    "from langchain_openai import ChatOpenAI\n",
    "\n",
    "prompt = PromptTemplate.from_template(\"{topic}에 대해 설명해주세요.\")\n",
    "\n",
    "model = ChatOpenAI(model=\"gpt-4o-mini\", temperature=0.1)\n",
    "\n",
    "chain = prompt | model"
   ]
  },
  {
   "cell_type": "code",
   "execution_count": 14,
   "metadata": {},
   "outputs": [],
   "source": [
    "input = {\"topic\": \"인공지능 모델의 학습 원리\"}"
   ]
  },
  {
   "cell_type": "code",
   "execution_count": 15,
   "metadata": {},
   "outputs": [
    {
     "data": {
      "text/plain": [
       "AIMessage(content='인공지능 모델의 학습 원리는 주로 기계 학습(machine learning)과 딥러닝(deep learning)이라는 두 가지 주요 분야로 나눌 수 있습니다. 이들 각각의 원리는 데이터에서 패턴을 학습하고, 이를 바탕으로 예측이나 결정을 내리는 데 사용됩니다. 아래에 그 기본 원리를 설명하겠습니다.\\n\\n### 1. 데이터 수집\\n모델 학습의 첫 단계는 데이터를 수집하는 것입니다. 이 데이터는 모델이 학습할 수 있는 다양한 예시를 포함해야 하며, 일반적으로 입력 데이터와 그에 대한 정답(레이블)으로 구성됩니다.\\n\\n### 2. 데이터 전처리\\n수집된 데이터는 종종 노이즈가 있거나 불완전할 수 있습니다. 따라서 데이터 전처리 과정이 필요합니다. 이 과정에서는 결측값 처리, 정규화, 표준화, 범주형 데이터 인코딩 등의 작업이 이루어집니다.\\n\\n### 3. 모델 선택\\n문제의 특성에 맞는 모델을 선택합니다. 예를 들어, 이미지 인식 문제에는 합성곱 신경망(CNN), 자연어 처리에는 순환 신경망(RNN)이나 변환기(Transformer) 모델이 적합할 수 있습니다.\\n\\n### 4. 학습(Training)\\n모델 학습은 주어진 데이터로부터 패턴을 학습하는 과정입니다. 이 과정은 다음과 같은 단계로 이루어집니다:\\n\\n- **손실 함수(Loss Function)**: 모델의 예측값과 실제값 간의 차이를 측정하는 함수입니다. 이 값을 최소화하는 것이 모델 학습의 목표입니다.\\n  \\n- **최적화 알고리즘(Optimization Algorithm)**: 손실 함수를 최소화하기 위해 모델의 파라미터(가중치)를 조정하는 방법입니다. 대표적인 알고리즘으로는 경사 하강법(Gradient Descent)과 그 변형들이 있습니다.\\n\\n- **에포크(Epoch)**: 전체 데이터셋을 한 번 학습하는 과정을 에포크라고 하며, 여러 번 반복하여 모델의 성능을 개선합니다.\\n\\n### 5. 검증(Validation)\\n모델이 학습하는 동안, 검증 데이터셋을 사용하여 모델의 성능을 평가합니다. 이를 통해 과적합(overfitting)을 방지하고, 모델이 새로운 데이터에 잘 일반화되는지를 확인합니다.\\n\\n### 6. 테스트(Test)\\n모델 학습이 완료되면, 테스트 데이터셋을 사용하여 최종 성능을 평가합니다. 이 데이터는 모델 학습 과정에서 사용되지 않은 데이터로, 모델의 실제 성능을 가늠하는 데 사용됩니다.\\n\\n### 7. 배포(Deployment)\\n모델이 충분히 학습되고 검증되면, 실제 환경에 배포하여 사용자에게 서비스를 제공합니다. 이후에도 모델의 성능을 모니터링하고 필요에 따라 재학습을 진행할 수 있습니다.\\n\\n이러한 과정들을 통해 인공지능 모델은 주어진 데이터로부터 학습하고, 새로운 데이터에 대한 예측을 수행할 수 있게 됩니다.', additional_kwargs={'refusal': None}, response_metadata={'token_usage': {'completion_tokens': 667, 'prompt_tokens': 20, 'total_tokens': 687, 'completion_tokens_details': {'accepted_prediction_tokens': 0, 'audio_tokens': 0, 'reasoning_tokens': 0, 'rejected_prediction_tokens': 0}, 'prompt_tokens_details': {'audio_tokens': 0, 'cached_tokens': 0}}, 'model_name': 'gpt-4o-mini-2024-07-18', 'system_fingerprint': 'fp_06737a9306', 'finish_reason': 'stop', 'logprobs': None}, id='run-b6407f80-be06-4bcd-87e9-18ca948093f2-0', usage_metadata={'input_tokens': 20, 'output_tokens': 667, 'total_tokens': 687, 'input_token_details': {'audio': 0, 'cache_read': 0}, 'output_token_details': {'audio': 0, 'reasoning': 0}})"
      ]
     },
     "execution_count": 15,
     "metadata": {},
     "output_type": "execute_result"
    }
   ],
   "source": [
    "chain.invoke(input)"
   ]
  },
  {
   "cell_type": "code",
   "execution_count": 17,
   "metadata": {},
   "outputs": [
    {
     "name": "stdout",
     "output_type": "stream",
     "text": [
      "인공지능 모델의 학습 원리는 주로 기계 학습(Machine Learning)과 딥러닝(Deep Learning)이라는 두 가지 주요 분야로 나눌 수 있습니다. 이들 각각의 원리는 다음과 같습니다.\n",
      "\n",
      "### 1. 기계 학습 (Machine Learning)\n",
      "\n",
      "기계 학습은 데이터에서 패턴을 학습하여 예측이나 결정을 내리는 알고리즘을 개발하는 분야입니다. 기계 학습의 기본 원리는 다음과 같습니다:\n",
      "\n",
      "- **데이터 수집**: 모델을 학습시키기 위해 필요한 데이터를 수집합니다. 이 데이터는 입력(features)과 출력(labels)으로 구성됩니다.\n",
      "\n",
      "- **모델 선택**: 문제에 적합한 알고리즘을 선택합니다. 예를 들어, 회귀, 분류, 군집화 등의 방법이 있습니다.\n",
      "\n",
      "- **훈련(Training)**: 선택한 모델에 데이터를 입력하여 학습을 진행합니다. 이 과정에서 모델은 입력 데이터와 출력 데이터 간의 관계를 학습합니다.\n",
      "\n",
      "- **손실 함수(Loss Function)**: 모델의 예측값과 실제값 간의 차이를 측정하는 함수입니다. 모델의 성능을 평가하고 개선하기 위해 사용됩니다.\n",
      "\n",
      "- **최적화(Optimization)**: 손실 함수를 최소화하기 위해 모델의 파라미터를 조정합니다. 일반적으로 경사 하강법(Gradient Descent)과 같은 최적화 알고리즘이 사용됩니다.\n",
      "\n",
      "- **검증(Validation)**: 학습된 모델의 성능을 평가하기 위해 검증 데이터를 사용합니다. 과적합(overfitting)을 방지하기 위해 교차 검증(cross-validation) 기법을 사용할 수 있습니다.\n",
      "\n",
      "### 2. 딥러닝 (Deep Learning)\n",
      "\n",
      "딥러닝은 인공 신경망(Artificial Neural Networks)을 기반으로 한 기계 학습의 한 분야로, 복잡한 데이터 패턴을 학습하는 데 강력한 성능을 발휘합니다. 딥러닝의 학습 원리는 다음과 같습니다:\n",
      "\n",
      "- **신경망 구조**: 여러 층(layer)으로 구성된 신경망을 사용합니다. 각 층은 노드(node)로 구성되며, 노드 간의 연결은 가중치(weight)로 표현됩니다.\n",
      "\n",
      "- **전방 전파(Forward Propagation)**: 입력 데이터가 신경망을 통과하면서 각 층에서 계산이 이루어지고, 최종 출력이 생성됩니다.\n",
      "\n",
      "- **손실 함수**: 출력과 실제값 간의 차이를 계산하여 손실을 측정합니다.\n",
      "\n",
      "- **역전파(Backpropagation)**: 손실을 최소화하기 위해 가중치를 조정하는 과정입니다. 경사 하강법을 사용하여 각 가중치의 기울기를 계산하고 업데이트합니다.\n",
      "\n",
      "- **반복 학습**: 이 과정을 여러 번 반복하여 모델이 점점 더 정확한 예측을 할 수 있도록 합니다.\n",
      "\n",
      "### 결론\n",
      "\n",
      "인공지능 모델의 학습 원리는 데이터에서 패턴을 인식하고 이를 기반으로 예측을 수행하는 것입니다. 기계 학습과 딥러닝은 각각의 방법론과 알고리즘을 통해 이러한 학습 과정을 수행하며, 다양한 응용 분야에서 활용되고 있습니다."
     ]
    }
   ],
   "source": [
    "answer = chain.stream(input)\n",
    "\n",
    "stream_response(answer)\n",
    "\n",
    "\n",
    "\n"
   ]
  },
  {
   "cell_type": "code",
   "execution_count": 18,
   "metadata": {},
   "outputs": [],
   "source": [
    "from langchain_core.output_parsers import StrOutputParser\n",
    "\n",
    "output_parser = StrOutputParser()"
   ]
  },
  {
   "cell_type": "code",
   "execution_count": 19,
   "metadata": {},
   "outputs": [],
   "source": [
    "chain = prompt | model | output_parser"
   ]
  },
  {
   "cell_type": "code",
   "execution_count": 20,
   "metadata": {},
   "outputs": [
    {
     "data": {
      "text/plain": [
       "'인공지능 모델의 학습 원리는 주로 기계 학습(Machine Learning)과 딥러닝(Deep Learning)이라는 두 가지 주요 분야에 기반하고 있습니다. 이들 원리는 데이터를 통해 패턴을 학습하고, 이를 바탕으로 예측이나 결정을 내리는 과정을 포함합니다. 아래에 주요 개념을 설명하겠습니다.\\n\\n### 1. 데이터 수집\\n모델 학습의 첫 단계는 데이터를 수집하는 것입니다. 이 데이터는 모델이 학습할 수 있는 정보의 원천으로, 텍스트, 이미지, 음성 등 다양한 형태일 수 있습니다.\\n\\n### 2. 데이터 전처리\\n수집된 데이터는 종종 노이즈가 포함되어 있거나 불완전할 수 있습니다. 따라서 데이터 전처리 과정이 필요합니다. 이 과정에서는 결측값 처리, 정규화, 범주형 변수 인코딩, 데이터 증강 등의 작업이 이루어집니다.\\n\\n### 3. 모델 선택\\n문제에 적합한 모델을 선택합니다. 예를 들어, 이미지 분류 문제에는 합성곱 신경망(CNN), 자연어 처리에는 순환 신경망(RNN)이나 변환기(Transformer) 모델이 적합할 수 있습니다.\\n\\n### 4. 학습\\n모델 학습은 주어진 데이터에서 패턴을 찾는 과정입니다. 이 과정은 다음과 같은 단계로 이루어집니다:\\n\\n- **손실 함수(Loss Function)**: 모델의 예측값과 실제값 간의 차이를 측정하는 함수입니다. 손실 함수의 값을 최소화하는 방향으로 모델의 파라미터를 조정합니다.\\n  \\n- **최적화 알고리즘(Optimization Algorithm)**: 손실 함수를 최소화하기 위해 모델의 파라미터를 업데이트하는 방법입니다. 대표적인 알고리즘으로는 경사 하강법(Gradient Descent)과 그 변형들이 있습니다.\\n\\n- **에포크(Epoch)**: 전체 데이터셋을 한 번 학습하는 과정을 에포크라고 하며, 여러 번 반복하여 모델의 성능을 개선합니다.\\n\\n### 5. 검증 및 평가\\n모델이 학습된 후, 검증 데이터셋을 사용하여 모델의 성능을 평가합니다. 이 과정에서 과적합(overfitting) 여부를 확인하고, 필요에 따라 하이퍼파라미터 튜닝을 진행합니다.\\n\\n### 6. 테스트\\n최종적으로 테스트 데이터셋을 사용하여 모델의 일반화 성능을 평가합니다. 이 단계에서 모델이 실제 환경에서 얼마나 잘 작동하는지를 확인합니다.\\n\\n### 7. 배포 및 모니터링\\n모델이 성공적으로 학습되고 평가되면, 실제 환경에 배포됩니다. 이후에는 모델의 성능을 지속적으로 모니터링하고, 필요에 따라 재학습을 진행합니다.\\n\\n이러한 과정을 통해 인공지능 모델은 데이터를 기반으로 학습하고, 새로운 데이터에 대해 예측을 수행할 수 있게 됩니다.'"
      ]
     },
     "execution_count": 20,
     "metadata": {},
     "output_type": "execute_result"
    }
   ],
   "source": [
    "input = {\"topic\": \"인공지능 모델의 학습 원리\"}\n",
    "chain.invoke(input)"
   ]
  },
  {
   "cell_type": "code",
   "execution_count": 21,
   "metadata": {},
   "outputs": [
    {
     "name": "stdout",
     "output_type": "stream",
     "text": [
      "인공지능 모델의 학습 원리는 주로 기계 학습(Machine Learning)과 딥러닝(Deep Learning)이라는 두 가지 주요 분야에 기반하고 있습니다. 이들 원리는 데이터에서 패턴을 학습하고, 이를 통해 새로운 데이터에 대한 예측이나 결정을 내리는 데 사용됩니다. 아래에 주요 개념을 설명하겠습니다.\n",
      "\n",
      "### 1. 데이터 수집\n",
      "모델 학습의 첫 단계는 데이터를 수집하는 것입니다. 이 데이터는 모델이 학습할 수 있는 다양한 예시를 포함해야 하며, 일반적으로 입력 데이터(특징)와 출력 데이터(레이블)로 구성됩니다.\n",
      "\n",
      "### 2. 데이터 전처리\n",
      "수집된 데이터는 종종 노이즈가 있거나 불완전할 수 있습니다. 따라서 데이터 전처리 과정이 필요합니다. 이 과정에는 결측값 처리, 정규화, 표준화, 범주형 데이터 인코딩 등이 포함됩니다.\n",
      "\n",
      "### 3. 모델 선택\n",
      "문제에 적합한 모델을 선택합니다. 예를 들어, 회귀 문제에는 선형 회귀 모델을, 분류 문제에는 로지스틱 회귀, 결정 트리, 신경망 등을 사용할 수 있습니다.\n",
      "\n",
      "### 4. 학습\n",
      "모델 학습은 주어진 데이터에서 패턴을 찾는 과정입니다. 이 과정에서 모델은 입력 데이터와 출력 데이터 간의 관계를 학습합니다. 일반적으로 다음과 같은 단계로 진행됩니다:\n",
      "\n",
      "- **손실 함수(Loss Function)**: 모델의 예측값과 실제값 간의 차이를 측정합니다. 손실 함수는 모델이 얼마나 잘 작동하는지를 평가하는 기준이 됩니다.\n",
      "  \n",
      "- **최적화 알고리즘(Optimization Algorithm)**: 손실 함수를 최소화하기 위해 모델의 파라미터를 조정합니다. 대표적인 최적화 알고리즘으로는 경사 하강법(Gradient Descent)이 있습니다.\n",
      "\n",
      "- **에포크(Epoch)**: 전체 데이터셋을 한 번 학습하는 과정을 에포크라고 하며, 여러 번 반복하여 모델의 성능을 개선합니다.\n",
      "\n",
      "### 5. 검증 및 테스트\n",
      "모델이 학습된 후, 검증 데이터셋을 사용하여 모델의 성능을 평가합니다. 이 과정에서 과적합(overfitting)을 방지하기 위해 교차 검증(cross-validation) 기법을 사용할 수 있습니다. 최종적으로 테스트 데이터셋을 통해 모델의 일반화 성능을 확인합니다.\n",
      "\n",
      "### 6. 배포 및 모니터링\n",
      "모델이 충분히 학습되고 검증되면 실제 환경에 배포됩니다. 이후에는 모델의 성능을 지속적으로 모니터링하고, 필요에 따라 재학습(retraining)이나 업데이트를 진행합니다.\n",
      "\n",
      "이러한 과정들을 통해 인공지능 모델은 데이터를 기반으로 학습하고, 새로운 데이터에 대한 예측을 수행할 수 있게 됩니다."
     ]
    }
   ],
   "source": [
    "answer = chain.stream(input)\n",
    "\n",
    "stream_response(answer)"
   ]
  },
  {
   "cell_type": "code",
   "execution_count": 22,
   "metadata": {},
   "outputs": [],
   "source": [
    "template = \"\"\"\n",
    "당신은 영어를 가르치는 10년차 영어 선생님입니다. 주어진 상황에 맞는 영어 회화를 작성해 주세요.\n",
    "양식은 [FORMAT]을 참고하여 작성해 주세요.\n",
    "\n",
    "#상황:\n",
    "{question}\n",
    "\n",
    "#FORMAT:\n",
    "- 영어 회화:\n",
    "- 한글 해석:\n",
    "\"\"\"\n",
    "\n",
    "prompt = PromptTemplate.from_template(template)\n",
    "\n",
    "model = ChatOpenAI(model=\"gpt-4o-mini\", temperature=0.1)\n",
    "\n",
    "output_parser = StrOutputParser()\n"
   ]
  },
  {
   "cell_type": "code",
   "execution_count": 23,
   "metadata": {},
   "outputs": [],
   "source": [
    "chain = prompt | model | output_parser"
   ]
  },
  {
   "cell_type": "code",
   "execution_count": 25,
   "metadata": {},
   "outputs": [
    {
     "name": "stdout",
     "output_type": "stream",
     "text": [
      "- 영어 회화:  \n",
      "A: What a beautiful day it is today! The sun is shining and the sky is so clear.  \n",
      "B: I know! It’s perfect weather for a walk in the park. Do you want to go?  \n",
      "\n",
      "- 한글 해석:  \n",
      "A: 오늘 정말 아름다운 날이야! 태양이 빛나고 하늘이 너무 맑아.  \n",
      "B: 나도 알아! 공원에서 산책하기에 완벽한 날씨야. 갈래?\n"
     ]
    }
   ],
   "source": [
    "print(chain.invoke({\"question\": \"오늘 날씨가 좋아요.\"}))"
   ]
  },
  {
   "cell_type": "code",
   "execution_count": 28,
   "metadata": {},
   "outputs": [
    {
     "name": "stdout",
     "output_type": "stream",
     "text": [
      "- 영어 회화:\n",
      "A: Did you hear the news about the Ukraine-Russia war?  \n",
      "B: Yes, I did! I can't believe the U.S. is stepping in to help negotiate a ceasefire.  \n",
      "A: It's about time. The conflict has gone on for too long.  \n",
      "B: I agree. Hopefully, this will lead to a lasting peace.  \n",
      "A: I wonder how the international community will respond to this intervention.  \n",
      "B: It could be a turning point for diplomacy in the region.  \n",
      "\n",
      "- 한글 해석:\n",
      "A: 우크라이나-러시아 전쟁에 대한 소식 들었어?  \n",
      "B: 응, 들었어! 미국이 휴전을 협상하기 위해 개입한다니 믿을 수가 없어.  \n",
      "A: 이제야 좀 나아지는 것 같아. 갈등이 너무 오래 지속되었어.  \n",
      "B: 나도 동의해. 이게 지속 가능한 평화로 이어지길 바래.  \n",
      "A: 국제 사회가 이 개입에 어떻게 반응할지 궁금해.  \n",
      "B: 이게 그 지역의 외교에 전환점이 될 수 있을 것 같아."
     ]
    }
   ],
   "source": [
    "answer = chain.stream({\"question\": \"우크라이나 러시아 전쟁에 미국 개입하여 휴전 및 전쟁 종식\"})\n",
    "\n",
    "stream_response(answer)\n",
    "\n",
    "\n",
    "\n"
   ]
  }
 ],
 "metadata": {
  "kernelspec": {
   "display_name": "Python 3",
   "language": "python",
   "name": "python3"
  },
  "language_info": {
   "codemirror_mode": {
    "name": "ipython",
    "version": 3
   },
   "file_extension": ".py",
   "mimetype": "text/x-python",
   "name": "python",
   "nbconvert_exporter": "python",
   "pygments_lexer": "ipython3",
   "version": "3.11.10"
  }
 },
 "nbformat": 4,
 "nbformat_minor": 2
}
